{
 "cells": [
  {
   "cell_type": "code",
   "execution_count": 1,
   "metadata": {},
   "outputs": [],
   "source": [
    "from influxdb_interface import Influx\n",
    "import influxdb\n",
    "import utility as util\n",
    "from datetime import datetime\n",
    "import pandas as pd"
   ]
  },
  {
   "cell_type": "code",
   "execution_count": 2,
   "metadata": {},
   "outputs": [
    {
     "name": "stdout",
     "output_type": "stream",
     "text": [
      "Retrieving client for: gateway-generic\n",
      "Retrieving client for: gateway-generic\n"
     ]
    }
   ],
   "source": [
    "df = pd.read_csv('book_with_grids_combined.csv')\n",
    "\n",
    "# get info from Influx\n",
    "db = Influx()\n",
    "client = db.get_client()"
   ]
  },
  {
   "cell_type": "code",
   "execution_count": null,
   "metadata": {},
   "outputs": [],
   "source": [
    "# get measurements\n",
    "measurements = client.get_list_measurements()\n",
    "measurements\n"
   ]
  },
  {
   "cell_type": "code",
   "execution_count": 3,
   "metadata": {},
   "outputs": [],
   "source": [
    "#  create start_date and end_date: April 25, 2022 to July 20, 2022\n",
    "start_date = datetime(2022, 4, 25, 0, 0, 0)\n",
    "end_date = datetime(2022, 7, 20, 0, 0, 0)"
   ]
  },
  {
   "cell_type": "code",
   "execution_count": 4,
   "metadata": {},
   "outputs": [],
   "source": [
    "# get csv of participant awair sensors\n",
    "pids = pd.read_csv('wb_awairs.csv')"
   ]
  },
  {
   "cell_type": "code",
   "execution_count": 5,
   "metadata": {},
   "outputs": [
    {
     "data": {
      "text/html": [
       "<div>\n",
       "<style scoped>\n",
       "    .dataframe tbody tr th:only-of-type {\n",
       "        vertical-align: middle;\n",
       "    }\n",
       "\n",
       "    .dataframe tbody tr th {\n",
       "        vertical-align: top;\n",
       "    }\n",
       "\n",
       "    .dataframe thead th {\n",
       "        text-align: right;\n",
       "    }\n",
       "</style>\n",
       "<table border=\"1\" class=\"dataframe\">\n",
       "  <thead>\n",
       "    <tr style=\"text-align: right;\">\n",
       "      <th></th>\n",
       "      <th>ParticipantID</th>\n",
       "      <th>Awair</th>\n",
       "      <th>device_id</th>\n",
       "      <th>Work</th>\n",
       "      <th>type</th>\n",
       "    </tr>\n",
       "  </thead>\n",
       "  <tbody>\n",
       "    <tr>\n",
       "      <th>0</th>\n",
       "      <td>edr</td>\n",
       "      <td>AW-13145</td>\n",
       "      <td>70886b1232f6</td>\n",
       "      <td>Link Lab</td>\n",
       "      <td>awair_omni</td>\n",
       "    </tr>\n",
       "    <tr>\n",
       "      <th>1</th>\n",
       "      <td>egl</td>\n",
       "      <td>AW-13145</td>\n",
       "      <td>70886b1232f6</td>\n",
       "      <td>Link Lab</td>\n",
       "      <td>awair_omni</td>\n",
       "    </tr>\n",
       "    <tr>\n",
       "      <th>2</th>\n",
       "      <td>j02</td>\n",
       "      <td>AW-25396</td>\n",
       "      <td>70886b125db1</td>\n",
       "      <td>Off Grounds BR</td>\n",
       "      <td>awair_omni</td>\n",
       "    </tr>\n",
       "    <tr>\n",
       "      <th>3</th>\n",
       "      <td>uja</td>\n",
       "      <td>AW-16515</td>\n",
       "      <td>70886b123935</td>\n",
       "      <td>Link Lab</td>\n",
       "      <td>awair_omni</td>\n",
       "    </tr>\n",
       "    <tr>\n",
       "      <th>4</th>\n",
       "      <td>lpz</td>\n",
       "      <td>AW-29799</td>\n",
       "      <td>70886b127d5c</td>\n",
       "      <td>Off Grounds BR</td>\n",
       "      <td>awair_omni</td>\n",
       "    </tr>\n",
       "    <tr>\n",
       "      <th>5</th>\n",
       "      <td>oyb</td>\n",
       "      <td>AW-23619</td>\n",
       "      <td>70886b126976</td>\n",
       "      <td>Link Lab</td>\n",
       "      <td>awair_omni</td>\n",
       "    </tr>\n",
       "    <tr>\n",
       "      <th>6</th>\n",
       "      <td>mr1</td>\n",
       "      <td>AW-23810</td>\n",
       "      <td>70886b126a7b</td>\n",
       "      <td>Link Lab</td>\n",
       "      <td>awair_omni</td>\n",
       "    </tr>\n",
       "    <tr>\n",
       "      <th>7</th>\n",
       "      <td>xil</td>\n",
       "      <td>AW-22996</td>\n",
       "      <td>70886b12532b</td>\n",
       "      <td>Link Lab</td>\n",
       "      <td>awair_omni</td>\n",
       "    </tr>\n",
       "    <tr>\n",
       "      <th>8</th>\n",
       "      <td>pgm</td>\n",
       "      <td>AW-15886</td>\n",
       "      <td>70886b123bc8</td>\n",
       "      <td>Link Lab</td>\n",
       "      <td>awair_omni</td>\n",
       "    </tr>\n",
       "    <tr>\n",
       "      <th>9</th>\n",
       "      <td>h9u</td>\n",
       "      <td>AW-27185</td>\n",
       "      <td>70886b12697a</td>\n",
       "      <td>Off Grounds</td>\n",
       "      <td>awair_omni</td>\n",
       "    </tr>\n",
       "    <tr>\n",
       "      <th>10</th>\n",
       "      <td>vxx</td>\n",
       "      <td>AW-26885</td>\n",
       "      <td>70886b1277ca</td>\n",
       "      <td>Link Lab</td>\n",
       "      <td>awair_omni</td>\n",
       "    </tr>\n",
       "    <tr>\n",
       "      <th>11</th>\n",
       "      <td>heh</td>\n",
       "      <td>AW-27261</td>\n",
       "      <td>70886b126a0d</td>\n",
       "      <td>Off Grounds</td>\n",
       "      <td>awair_omni</td>\n",
       "    </tr>\n",
       "    <tr>\n",
       "      <th>12</th>\n",
       "      <td>ssg</td>\n",
       "      <td>AW-13130</td>\n",
       "      <td>70886b12349c</td>\n",
       "      <td>Link Lab</td>\n",
       "      <td>awair_omni</td>\n",
       "    </tr>\n",
       "  </tbody>\n",
       "</table>\n",
       "</div>"
      ],
      "text/plain": [
       "   ParticipantID     Awair     device_id            Work        type\n",
       "0            edr  AW-13145  70886b1232f6        Link Lab  awair_omni\n",
       "1            egl  AW-13145  70886b1232f6        Link Lab  awair_omni\n",
       "2            j02  AW-25396  70886b125db1  Off Grounds BR  awair_omni\n",
       "3            uja  AW-16515  70886b123935        Link Lab  awair_omni\n",
       "4            lpz  AW-29799  70886b127d5c  Off Grounds BR  awair_omni\n",
       "5            oyb  AW-23619  70886b126976        Link Lab  awair_omni\n",
       "6            mr1  AW-23810  70886b126a7b        Link Lab  awair_omni\n",
       "7            xil  AW-22996  70886b12532b        Link Lab  awair_omni\n",
       "8            pgm  AW-15886  70886b123bc8        Link Lab  awair_omni\n",
       "9            h9u  AW-27185  70886b12697a     Off Grounds  awair_omni\n",
       "10           vxx  AW-26885  70886b1277ca        Link Lab  awair_omni\n",
       "11           heh  AW-27261  70886b126a0d     Off Grounds  awair_omni\n",
       "12           ssg  AW-13130  70886b12349c        Link Lab  awair_omni"
      ]
     },
     "execution_count": 5,
     "metadata": {},
     "output_type": "execute_result"
    }
   ],
   "source": [
    "# create type column with value 'awair_omni'\n",
    "pids['type'] = 'awair_omni'\n",
    "pids # awairs installed off grounds are not in the book_with_grids_combined.csv"
   ]
  },
  {
   "cell_type": "code",
   "execution_count": 6,
   "metadata": {},
   "outputs": [
    {
     "name": "stderr",
     "output_type": "stream",
     "text": [
      "DEBUG:urllib3.connectionpool:Starting new HTTPS connection (1): influx.linklab.virginia.edu:443\n",
      "/Users/beatriceli/miniconda3/envs/influx/lib/python3.10/site-packages/urllib3/connectionpool.py:1045: InsecureRequestWarning: Unverified HTTPS request is being made to host 'influx.linklab.virginia.edu'. Adding certificate verification is strongly advised. See: https://urllib3.readthedocs.io/en/1.26.x/advanced-usage.html#ssl-warnings\n",
      "  warnings.warn(\n",
      "DEBUG:urllib3.connectionpool:https://influx.linklab.virginia.edu:443 \"GET /query?q=SELECT+%2A+FROM+%22co2_ppm%22+WHERE+time+%3E%3D+%272022-04-25+00%3A00%3A00%27+and+time+%3C+%272022-07-20+00%3A00%3A00%27and+%28%22device_id%22%3D%2770886b1232f6%27or+%22device_id%22%3D%2770886b1232f6%27or+%22device_id%22%3D%2770886b125db1%27or+%22device_id%22%3D%2770886b123935%27or+%22device_id%22%3D%2770886b127d5c%27or+%22device_id%22%3D%2770886b126976%27or+%22device_id%22%3D%2770886b126a7b%27or+%22device_id%22%3D%2770886b12532b%27or+%22device_id%22%3D%2770886b123bc8%27or+%22device_id%22%3D%2770886b12697a%27or+%22device_id%22%3D%2770886b1277ca%27or+%22device_id%22%3D%2770886b126a0d%27or+%22device_id%22%3D%2770886b12349c%27%29&db=gateway-generic HTTP/1.1\" 200 None\n"
     ]
    },
    {
     "name": "stdout",
     "output_type": "stream",
     "text": [
      "Retrieving client for: gateway-generic\n",
      "start_time: 2022-04-25 00:00:00\n",
      "end_time: 2022-07-20 00:00:00\n"
     ]
    }
   ],
   "source": [
    "co2 = util.get_lfdf(\"co2_ppm\", start_date, end_date, list(pids[pids['type']=='awair_omni']['device_id']))"
   ]
  },
  {
   "cell_type": "code",
   "execution_count": null,
   "metadata": {},
   "outputs": [],
   "source": [
    "score = util.get_lfdf(\"score\", start_date, end_date, list(pids[pids['type']=='awair_omni']['device_id']))"
   ]
  },
  {
   "cell_type": "code",
   "execution_count": null,
   "metadata": {},
   "outputs": [],
   "source": [
    "co2 = util.get_lfdf(\"co2_ppm\", start_date, end_date, list(pids[pids['type']=='awair_omni']['device_id']))"
   ]
  }
 ],
 "metadata": {
  "kernelspec": {
   "display_name": "influx",
   "language": "python",
   "name": "python3"
  },
  "language_info": {
   "codemirror_mode": {
    "name": "ipython",
    "version": 3
   },
   "file_extension": ".py",
   "mimetype": "text/x-python",
   "name": "python",
   "nbconvert_exporter": "python",
   "pygments_lexer": "ipython3",
   "version": "3.10.9"
  },
  "orig_nbformat": 4,
  "vscode": {
   "interpreter": {
    "hash": "dbe392138884773bdcb646562379beffbb9c1a98983b58f63459d96b44899694"
   }
  }
 },
 "nbformat": 4,
 "nbformat_minor": 2
}
